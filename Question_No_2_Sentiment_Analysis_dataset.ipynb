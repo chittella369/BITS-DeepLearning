{
  "nbformat": 4,
  "nbformat_minor": 0,
  "metadata": {
    "colab": {
      "name": "Copy of Question No.2. Sentiment Analysis dataset.ipynb",
      "provenance": [],
      "collapsed_sections": []
    },
    "kernelspec": {
      "name": "python3",
      "display_name": "Python 3"
    },
    "accelerator": "GPU"
  },
  "cells": [
    {
      "cell_type": "markdown",
      "metadata": {
        "id": "hjmC7IYx_uBK"
      },
      "source": [
        "# Question No.2\n",
        " NLP Dataset: Sentiment Analysis dataset - 1.6 Million tweets. Please find your dataset https://www.kaggle.com/kazanova/sentiment140. The column 'text' has the tweet and 'target' gives the sentiment of the text.\n",
        "\n",
        " Prepare a python notebook (recommended- use Google Colab) to build, train and evaluate a deep neural network on the given dataset. Read the instructions carefully."
      ]
    },
    {
      "cell_type": "code",
      "metadata": {
        "id": "SZgQmL7maNML"
      },
      "source": [
        ""
      ],
      "execution_count": null,
      "outputs": []
    },
    {
      "cell_type": "markdown",
      "metadata": {
        "id": "16J952nmACoF"
      },
      "source": [
        "#1. Import Libraries/Dataset\n",
        "\n",
        "a. Import required libraries (recommended- use tensorflow/keras library).\n",
        "\n",
        "b. Import the dataset (use Google Drive if required).\n",
        "\n",
        "c. Check the GPU available (recommended- use free GPU provided by Google Colab)."
      ]
    },
    {
      "cell_type": "code",
      "metadata": {
        "id": "FN7dgm1_Osxj"
      },
      "source": [
        "import numpy as np\n",
        "import pandas as pd\n",
        "\n",
        "from tensorflow.keras import models\n",
        "from tensorflow.keras import regularizers\n",
        "import matplotlib.pyplot as plt\n",
        "\n",
        "from sklearn.model_selection import train_test_split\n",
        "from sklearn.preprocessing import LabelEncoder\n",
        "from sklearn.metrics import confusion_matrix, classification_report, accuracy_score\n",
        "from sklearn.manifold import TSNE\n",
        "from sklearn.feature_extraction.text import TfidfVectorizer\n",
        "\n",
        "import nltk\n",
        "from nltk.corpus import stopwords\n",
        "from nltk.stem import SnowballStemmer\n",
        "from nltk.stem import WordNetLemmatizer\n",
        "\n",
        "\n",
        "import gensim\n",
        "\n",
        "import re\n",
        "import numpy as np\n",
        "import os\n",
        "from collections import Counter\n",
        "import logging\n",
        "import time\n",
        "import pickle\n",
        "import itertools\n",
        "import tarfile"
      ],
      "execution_count": null,
      "outputs": []
    },
    {
      "cell_type": "code",
      "metadata": {
        "id": "DIEjZTnP1a_D",
        "outputId": "0cf0db82-df3b-4cf2-9a8d-4cb9b8b06276",
        "colab": {
          "base_uri": "https://localhost:8080/",
          "height": 68
        }
      },
      "source": [
        "nltk.download('stopwords')"
      ],
      "execution_count": null,
      "outputs": [
        {
          "output_type": "stream",
          "text": [
            "[nltk_data] Downloading package stopwords to /root/nltk_data...\n",
            "[nltk_data]   Unzipping corpora/stopwords.zip.\n"
          ],
          "name": "stdout"
        },
        {
          "output_type": "execute_result",
          "data": {
            "text/plain": [
              "True"
            ]
          },
          "metadata": {
            "tags": []
          },
          "execution_count": 6
        }
      ]
    },
    {
      "cell_type": "code",
      "metadata": {
        "id": "NaqVuO-53hFk",
        "outputId": "4beb83b6-28d3-4b87-965f-cb21e48982ed",
        "colab": {
          "base_uri": "https://localhost:8080/",
          "height": 34
        }
      },
      "source": [
        "# Load the Drive helper and mount\n",
        "from google.colab import drive \n",
        "# This will prompt for authorization.\n",
        "drive.mount('/content/gdrive')"
      ],
      "execution_count": null,
      "outputs": [
        {
          "output_type": "stream",
          "text": [
            "Mounted at /content/gdrive\n"
          ],
          "name": "stdout"
        }
      ]
    },
    {
      "cell_type": "code",
      "metadata": {
        "id": "K9ykibMc3t1n",
        "outputId": "73603e2b-028f-462d-c5de-703cd3b57084",
        "colab": {
          "base_uri": "https://localhost:8080/",
          "height": 34
        }
      },
      "source": [
        "%cd /content/gdrive/My\\ Drive"
      ],
      "execution_count": null,
      "outputs": [
        {
          "output_type": "stream",
          "text": [
            "/content/gdrive/My Drive\n"
          ],
          "name": "stdout"
        }
      ]
    },
    {
      "cell_type": "code",
      "metadata": {
        "id": "8ZQie6S_3zsy",
        "outputId": "7d77aff6-1aef-48f5-8bb4-7e9fe6f4b40f",
        "colab": {
          "base_uri": "https://localhost:8080/",
          "height": 68
        }
      },
      "source": [
        "!ls \"Colab Notebooks/DL_Assignment_2\"\n"
      ],
      "execution_count": null,
      "outputs": [
        {
          "output_type": "stream",
          "text": [
            "data\n",
            "training.1600000.processed.noemoticon.csv\n",
            "training.1600000.processed.noemoticon.csv.zip\n"
          ],
          "name": "stdout"
        }
      ]
    },
    {
      "cell_type": "markdown",
      "metadata": {
        "id": "anQ_XJSuAJHM"
      },
      "source": [
        "#2. Data Visualization \n",
        "a. Print at least two tweets from each class of the dataset, for a sanity check that labels match the text. \n",
        "\n",
        "b. Plot a bar graph of class distribution in dataset. Each bar depicts the number of tweets belonging to a particular sentiment. (recommended - matplotlib/seaborn libraries) \n",
        "\n",
        "c. Any other visualizations that seem appropriate for this problem are encouraged but not necessary, for the points.\n",
        "\n",
        "d. Print the shapes of train and test data."
      ]
    },
    {
      "cell_type": "code",
      "metadata": {
        "id": "ZkqAj9bl1QrN",
        "outputId": "1f40ffd4-98bd-4f22-cc1e-f84a196ea771",
        "colab": {
          "base_uri": "https://localhost:8080/",
          "height": 204
        }
      },
      "source": [
        "# Importing the dataset\n",
        "DATASET_COLUMNS  = [\"sentiment\", \"ids\", \"date\", \"flag\", \"user\", \"text\"]\n",
        "DATASET_ENCODING = \"ISO-8859-1\"\n",
        "dataset = pd.read_csv('./Colab Notebooks/DL_Assignment_2/data/training.1600000.processed.noemoticon.csv', encoding=DATASET_ENCODING , names=DATASET_COLUMNS)\n",
        "\n",
        "dataset.head(5)"
      ],
      "execution_count": null,
      "outputs": [
        {
          "output_type": "execute_result",
          "data": {
            "text/html": [
              "<div>\n",
              "<style scoped>\n",
              "    .dataframe tbody tr th:only-of-type {\n",
              "        vertical-align: middle;\n",
              "    }\n",
              "\n",
              "    .dataframe tbody tr th {\n",
              "        vertical-align: top;\n",
              "    }\n",
              "\n",
              "    .dataframe thead th {\n",
              "        text-align: right;\n",
              "    }\n",
              "</style>\n",
              "<table border=\"1\" class=\"dataframe\">\n",
              "  <thead>\n",
              "    <tr style=\"text-align: right;\">\n",
              "      <th></th>\n",
              "      <th>sentiment</th>\n",
              "      <th>ids</th>\n",
              "      <th>date</th>\n",
              "      <th>flag</th>\n",
              "      <th>user</th>\n",
              "      <th>text</th>\n",
              "    </tr>\n",
              "  </thead>\n",
              "  <tbody>\n",
              "    <tr>\n",
              "      <th>0</th>\n",
              "      <td>0</td>\n",
              "      <td>1467810369</td>\n",
              "      <td>Mon Apr 06 22:19:45 PDT 2009</td>\n",
              "      <td>NO_QUERY</td>\n",
              "      <td>_TheSpecialOne_</td>\n",
              "      <td>@switchfoot http://twitpic.com/2y1zl - Awww, t...</td>\n",
              "    </tr>\n",
              "    <tr>\n",
              "      <th>1</th>\n",
              "      <td>0</td>\n",
              "      <td>1467810672</td>\n",
              "      <td>Mon Apr 06 22:19:49 PDT 2009</td>\n",
              "      <td>NO_QUERY</td>\n",
              "      <td>scotthamilton</td>\n",
              "      <td>is upset that he can't update his Facebook by ...</td>\n",
              "    </tr>\n",
              "    <tr>\n",
              "      <th>2</th>\n",
              "      <td>0</td>\n",
              "      <td>1467810917</td>\n",
              "      <td>Mon Apr 06 22:19:53 PDT 2009</td>\n",
              "      <td>NO_QUERY</td>\n",
              "      <td>mattycus</td>\n",
              "      <td>@Kenichan I dived many times for the ball. Man...</td>\n",
              "    </tr>\n",
              "    <tr>\n",
              "      <th>3</th>\n",
              "      <td>0</td>\n",
              "      <td>1467811184</td>\n",
              "      <td>Mon Apr 06 22:19:57 PDT 2009</td>\n",
              "      <td>NO_QUERY</td>\n",
              "      <td>ElleCTF</td>\n",
              "      <td>my whole body feels itchy and like its on fire</td>\n",
              "    </tr>\n",
              "    <tr>\n",
              "      <th>4</th>\n",
              "      <td>0</td>\n",
              "      <td>1467811193</td>\n",
              "      <td>Mon Apr 06 22:19:57 PDT 2009</td>\n",
              "      <td>NO_QUERY</td>\n",
              "      <td>Karoli</td>\n",
              "      <td>@nationwideclass no, it's not behaving at all....</td>\n",
              "    </tr>\n",
              "  </tbody>\n",
              "</table>\n",
              "</div>"
            ],
            "text/plain": [
              "   sentiment  ...                                               text\n",
              "0          0  ...  @switchfoot http://twitpic.com/2y1zl - Awww, t...\n",
              "1          0  ...  is upset that he can't update his Facebook by ...\n",
              "2          0  ...  @Kenichan I dived many times for the ball. Man...\n",
              "3          0  ...    my whole body feels itchy and like its on fire \n",
              "4          0  ...  @nationwideclass no, it's not behaving at all....\n",
              "\n",
              "[5 rows x 6 columns]"
            ]
          },
          "metadata": {
            "tags": []
          },
          "execution_count": 11
        }
      ]
    },
    {
      "cell_type": "code",
      "metadata": {
        "id": "2L_G_RL_FaYY",
        "outputId": "752a63f2-be6a-467e-f177-fddb99af5d78",
        "colab": {
          "base_uri": "https://localhost:8080/",
          "height": 34
        }
      },
      "source": [
        "dataset.shape"
      ],
      "execution_count": null,
      "outputs": [
        {
          "output_type": "execute_result",
          "data": {
            "text/plain": [
              "(1600000, 6)"
            ]
          },
          "metadata": {
            "tags": []
          },
          "execution_count": 12
        }
      ]
    },
    {
      "cell_type": "code",
      "metadata": {
        "id": "hV3GurQyGJbT",
        "outputId": "330edc57-cee4-4ace-cb6e-b5d5d87aa829",
        "colab": {
          "base_uri": "https://localhost:8080/",
          "height": 295
        }
      },
      "source": [
        "# Removing the unnecessary columns.\n",
        "dataset = dataset[['sentiment','text']]\n",
        "# Replacing the values to ease understanding.\n",
        "dataset['sentiment'] = dataset['sentiment'].replace(4,1)\n",
        "\n",
        "# Plotting the distribution for dataset.\n",
        "ax = dataset.groupby('sentiment').count().plot(kind='bar', title='Distribution of data',\n",
        "                                               legend=False)\n",
        "ax.set_xticklabels(['Negative','Positive'], rotation=0)\n",
        "\n",
        "# Storing data in lists.\n",
        "text, sentiment = list(dataset['text']), list(dataset['sentiment'])"
      ],
      "execution_count": null,
      "outputs": [
        {
          "output_type": "display_data",
          "data": {
            "image/png": "[encoded data removed]",
            "text/plain": [
              "<Figure size 432x288 with 1 Axes>"
            ]
          },
          "metadata": {
            "tags": [],
            "needs_background": "light"
          }
        }
      ]
    },
    {
      "cell_type": "code",
      "metadata": {
        "id": "pmkyYkV7XFrX"
      },
      "source": [
        "# Defining dictionary containing all emojis with their meanings.\n",
        "emojis = {':)': 'smile', ':-)': 'smile', ';d': 'wink', ':-E': 'vampire', ':(': 'sad', \n",
        "          ':-(': 'sad', ':-<': 'sad', ':P': 'raspberry', ':O': 'surprised',\n",
        "          ':-@': 'shocked', ':@': 'shocked',':-$': 'confused', ':\\\\': 'annoyed', \n",
        "          ':#': 'mute', ':X': 'mute', ':^)': 'smile', ':-&': 'confused', '$_$': 'greedy',\n",
        "          '@@': 'eyeroll', ':-!': 'confused', ':-D': 'smile', ':-0': 'yell', 'O.o': 'confused',\n",
        "          '<(-_-)>': 'robot', 'd[-_-]b': 'dj', \":'-)\": 'sadsmile', ';)': 'wink', \n",
        "          ';-)': 'wink', 'O:-)': 'angel','O*-)': 'angel','(:-D': 'gossip', '=^.^=': 'cat'}"
      ],
      "execution_count": null,
      "outputs": []
    },
    {
      "cell_type": "markdown",
      "metadata": {
        "id": "dblefHbQAiOl"
      },
      "source": [
        "#3. Data Pre-processing \n",
        "a. Need for this Step - Since the models we use cannot accept string inputs or cannot be of the string format. We have to come up with a way of handling this step. The discussion of different ways of handling this step is out of the scope of this assignment.\n",
        "\n",
        "b. Please use this pre-trained embedding layer ( https://tfhub.dev/google/nnlm-en-dim128/1 ) from TensorFlow hub for this assignment. This link also has a code snippet on how to convert a sentence to a vector. Refer to that for further clarity on this subject.\n",
        "\n",
        "c. Bring the train and test data in the required format."
      ]
    },
    {
      "cell_type": "code",
      "metadata": {
        "id": "d7ptEDNvWj9G"
      },
      "source": [
        "stopwordlist = ['a', 'about', 'above', 'after', 'again', 'ain', 'all', 'am', 'an',\n",
        "             'and','any','are', 'as', 'at', 'be', 'because', 'been', 'before',\n",
        "             'being', 'below', 'between','both', 'by', 'can', 'd', 'did', 'do',\n",
        "             'does', 'doing', 'down', 'during', 'each','few', 'for', 'from', \n",
        "             'further', 'had', 'has', 'have', 'having', 'he', 'her', 'here',\n",
        "             'hers', 'herself', 'him', 'himself', 'his', 'how', 'i', 'if', 'in',\n",
        "             'into','is', 'it', 'its', 'itself', 'just', 'll', 'm', 'ma',\n",
        "             'me', 'more', 'most','my', 'myself', 'now', 'o', 'of', 'on', 'once',\n",
        "             'only', 'or', 'other', 'our', 'ours','ourselves', 'out', 'own', 're',\n",
        "             's', 'same', 'she', \"shes\", 'should', \"shouldve\",'so', 'some', 'such',\n",
        "             't', 'than', 'that', \"thatll\", 'the', 'their', 'theirs', 'them',\n",
        "             'themselves', 'then', 'there', 'these', 'they', 'this', 'those', \n",
        "             'through', 'to', 'too','under', 'until', 'up', 've', 'very', 'was',\n",
        "             'we', 'were', 'what', 'when', 'where','which','while', 'who', 'whom',\n",
        "             'why', 'will', 'with', 'won', 'y', 'you', \"youd\",\"youll\", \"youre\",\n",
        "             \"youve\", 'your', 'yours', 'yourself', 'yourselves']"
      ],
      "execution_count": null,
      "outputs": []
    },
    {
      "cell_type": "code",
      "metadata": {
        "id": "9cCwUlWrWsv9"
      },
      "source": [
        "def preprocess(textdata):\n",
        "    processedText = []\n",
        "    \n",
        "    # Create Lemmatizer and Stemmer.\n",
        "    wordLemm = WordNetLemmatizer()\n",
        "    \n",
        "    # Defining regex patterns.\n",
        "    urlPattern        = r\"((http://)[^ ]*|(https://)[^ ]*|( www\\.)[^ ]*)\"\n",
        "    userPattern       = '@[^\\s]+'\n",
        "    alphaPattern      = \"[^a-zA-Z0-9]\"\n",
        "    sequencePattern   = r\"(.)\\1\\1+\"\n",
        "    seqReplacePattern = r\"\\1\\1\"\n",
        "    \n",
        "    for tweet in textdata:\n",
        "        tweet = tweet.lower()\n",
        "        \n",
        "        # Replace all URls with 'URL'\n",
        "        tweet = re.sub(urlPattern,' URL',tweet)\n",
        "        # Replace all emojis.\n",
        "        for emoji in emojis.keys():\n",
        "            tweet = tweet.replace(emoji, \"EMOJI\" + emojis[emoji])        \n",
        "        # Replace @USERNAME to 'USER'.\n",
        "        tweet = re.sub(userPattern,' USER', tweet)        \n",
        "        # Replace all non alphabets.\n",
        "        tweet = re.sub(alphaPattern, \" \", tweet)\n",
        "        # Replace 3 or more consecutive letters by 2 letter.\n",
        "        tweet = re.sub(sequencePattern, seqReplacePattern, tweet)\n",
        "\n",
        "        tweetwords = ''\n",
        "        for word in tweet.split():\n",
        "            # Checking if the word is a stopword.\n",
        "            #if word not in stopwordlist:\n",
        "            if len(word)>1:\n",
        "                # Lemmatizing the word.\n",
        "                word = wordLemm.lemmatize(word)\n",
        "                tweetwords += (word+' ')\n",
        "            \n",
        "        processedText.append(tweetwords)\n",
        "        \n",
        "    return processedText"
      ],
      "execution_count": null,
      "outputs": []
    },
    {
      "cell_type": "code",
      "metadata": {
        "id": "eJwZLUdzWwmf",
        "outputId": "c04257c1-fe30-427f-c14e-01f61eb09d26",
        "colab": {
          "base_uri": "https://localhost:8080/",
          "height": 85
        }
      },
      "source": [
        "nltk.download('wordnet')\n",
        "\n",
        "import time\n",
        "t = time.time()\n",
        "processedtext = preprocess(text)\n",
        "print(f'Text Preprocessing complete.')\n",
        "print(f'Time Taken: {round(time.time()-t)} seconds')\n"
      ],
      "execution_count": null,
      "outputs": [
        {
          "output_type": "stream",
          "text": [
            "[nltk_data] Downloading package wordnet to /root/nltk_data...\n",
            "[nltk_data]   Unzipping corpora/wordnet.zip.\n",
            "Text Preprocessing complete.\n",
            "Time Taken: 102 seconds\n"
          ],
          "name": "stdout"
        }
      ]
    },
    {
      "cell_type": "code",
      "metadata": {
        "id": "-PpJuQYWHe-Y",
        "outputId": "6424bd91-049f-427a-b3e8-8149109aa58b",
        "colab": {
          "base_uri": "https://localhost:8080/",
          "height": 34
        }
      },
      "source": [
        "X_train, X_test, y_train, y_test = train_test_split(processedtext, sentiment,\n",
        "                                                    test_size = 0.5, random_state = 0)\n",
        "print(f'Data Split done.')"
      ],
      "execution_count": null,
      "outputs": [
        {
          "output_type": "stream",
          "text": [
            "Data Split done.\n"
          ],
          "name": "stdout"
        }
      ]
    },
    {
      "cell_type": "code",
      "metadata": {
        "id": "G7AX38DweZDs",
        "outputId": "2b08e662-2203-4193-bf99-7e950320d890",
        "colab": {
          "base_uri": "https://localhost:8080/",
          "height": 85
        }
      },
      "source": [
        "print(\"training data input :\"+str(len(X_train)))\n",
        "print(\"training data output :\"+str(len(y_train)))\n",
        "\n",
        "print(\"Test data input :\"+str(len(X_test)))\n",
        "print(\"Test data output :\"+str(len(y_test)))"
      ],
      "execution_count": null,
      "outputs": [
        {
          "output_type": "stream",
          "text": [
            "training data input :800000\n",
            "training data output :800000\n",
            "Test data input :800000\n",
            "Test data output :800000\n"
          ],
          "name": "stdout"
        }
      ]
    },
    {
      "cell_type": "code",
      "metadata": {
        "id": "rlbO9nwfC-PX",
        "outputId": "53df55a5-9134-4b3e-db43-8c5299d6e148",
        "colab": {
          "base_uri": "https://localhost:8080/",
          "height": 35
        }
      },
      "source": [
        "train_examples_batch = next(iter(X_train[1:10]))\n",
        "train_examples_batch\n",
        "#np.array(train_examples_batch)"
      ],
      "execution_count": null,
      "outputs": [
        {
          "output_type": "execute_result",
          "data": {
            "application/vnd.google.colaboratory.intrinsic+json": {
              "type": "string"
            },
            "text/plain": [
              "'so downed some tea and feel million time better yes '"
            ]
          },
          "metadata": {
            "tags": []
          },
          "execution_count": 20
        }
      ]
    },
    {
      "cell_type": "markdown",
      "metadata": {
        "id": "ItGhFUfdAnj4"
      },
      "source": [
        "# 4. Model Building \n",
        "a. Sequential Model layers- Use AT LEAST 3 dense layers with appropriate input for each. Choose the best number for hidden units and give reasons.\n",
        "\n",
        "b. Add L2 regularization to all the layers.\n",
        "\n",
        "c. Add one layer of dropout at the appropriate position and give reasons.\n",
        "\n",
        "d. Choose the appropriate activation function for all the layers.\n",
        "\n",
        "e. Print the model summary."
      ]
    },
    {
      "cell_type": "code",
      "metadata": {
        "id": "KzDM_VAlPyPM",
        "outputId": "a123f8ff-3621-4095-87de-22feef0d661e",
        "colab": {
          "base_uri": "https://localhost:8080/",
          "height": 323
        }
      },
      "source": [
        "#!pip install --upgrade keras\n",
        "import tensorflow as tf\n",
        "import tensorflow_hub as hub\n",
        "import keras\n",
        "from keras.layers import Dropout, Dense\n",
        "from tensorflow.keras import regularizers\n",
        "\n",
        "\n",
        "hub_layer = hub.KerasLayer(\"https://tfhub.dev/google/nnlm-en-dim128/1\",input_shape=[], dtype=tf.string)\n",
        "\n",
        "'''model = keras.Sequential()\n",
        "model.add(hub_layer)\n",
        "model.add(keras.layers.Dense(16, activation='relu'))\n",
        "model.add(keras.layers.Dense(1, activation='sigmoid'))'''\n",
        "\n",
        "'''tf.keras.layers.Dense(100, activation='tanh',kernel_regularizer=regularizers.l2(0.01),activity_regularizer=regularizers.l2(0.01)),'''\n",
        "\n",
        "baseline_model = keras.Sequential()\n",
        "baseline_model.add(hub_layer)\n",
        "\n",
        "baseline_model.add(keras.layers.Dense(64, activation='relu',kernel_regularizer=regularizers.l2(0.01),activity_regularizer=regularizers.l2(0.01)))\n",
        "baseline_model.add(keras.layers.Dense(16, activation='relu',kernel_regularizer=regularizers.l2(0.01),activity_regularizer=regularizers.l2(0.01)))\n",
        "baseline_model.add(keras.layers.Dropout(0.5))\n",
        "baseline_model.add(keras.layers.Dense(1, activation='sigmoid',kernel_regularizer=regularizers.l2(0.01),activity_regularizer=regularizers.l2(0.01)))\n",
        "\n",
        "baseline_model.summary()\n"
      ],
      "execution_count": null,
      "outputs": [
        {
          "output_type": "stream",
          "text": [
            "Model: \"sequential\"\n",
            "_________________________________________________________________\n",
            "Layer (type)                 Output Shape              Param #   \n",
            "=================================================================\n",
            "keras_layer (KerasLayer)     (None, 128)               249285376 \n",
            "_________________________________________________________________\n",
            "dense (Dense)                (None, 64)                8256      \n",
            "_________________________________________________________________\n",
            "dense_1 (Dense)              (None, 16)                1040      \n",
            "_________________________________________________________________\n",
            "dropout (Dropout)            (None, 16)                0         \n",
            "_________________________________________________________________\n",
            "dense_2 (Dense)              (None, 1)                 17        \n",
            "=================================================================\n",
            "Total params: 249,294,689\n",
            "Trainable params: 9,313\n",
            "Non-trainable params: 249,285,376\n",
            "_________________________________________________________________\n"
          ],
          "name": "stdout"
        }
      ]
    },
    {
      "cell_type": "markdown",
      "metadata": {
        "id": "x9O8lhhH0v8O"
      },
      "source": [
        "<b>\n",
        " <li>A base line model is built 3 Dense layers and L2 regularization at each layer</li>\n",
        " <li> The model is built with a dropout of 0.5 to compare with the other models</li>\n",
        " <li> Relu Activation function is chosen for hidden layers while sigmoid function is chosen at the output layer </li>\n",
        "</b>"
      ]
    },
    {
      "cell_type": "markdown",
      "metadata": {
        "id": "j4pIpc2DAxUM"
      },
      "source": [
        "# 5. Model Compilation \n",
        "\n",
        "a. Compile the model with the appropriate loss function.\n",
        "\n",
        "b. Use an appropriate optimizer. Give reasons for the choice of learning rate and its value.\n",
        "\n",
        "c. Use accuracy as metric."
      ]
    },
    {
      "cell_type": "code",
      "metadata": {
        "id": "seRJXO7vHWqn"
      },
      "source": [
        "baseline_model.compile(loss='categorical_crossentropy', optimizer='adam', metrics=['accuracy'])\n"
      ],
      "execution_count": null,
      "outputs": []
    },
    {
      "cell_type": "code",
      "metadata": {
        "id": "p5pGfaWAHaek",
        "outputId": "99911ae1-d549-4d81-d865-95a1d2c1b6cd",
        "colab": {
          "base_uri": "https://localhost:8080/",
          "height": 141
        }
      },
      "source": [
        "keras.utils.plot_model(baseline_model, \n",
        "                      to_file='baseline_model.png',\n",
        "                      show_shapes=True, show_layer_names=True, rankdir='LR', expand_nested=False, dpi=128)"
      ],
      "execution_count": null,
      "outputs": [
        {
          "output_type": "execute_result",
          "data": {
            "image/png": "[encoded data removed]",
            "text/plain": [
              "<IPython.core.display.Image object>"
            ]
          },
          "metadata": {
            "tags": []
          },
          "execution_count": 23
        }
      ]
    },
    {
      "cell_type": "markdown",
      "metadata": {
        "id": "14J-l18BA4RU"
      },
      "source": [
        "#6. Model Training \n",
        "\n",
        "a. Train the model for an appropriate number of epochs (print the train and validation accuracy/loss for each epoch). Use the appropriate batch size.\n",
        "\n",
        "b. Plot the loss and accuracy history graphs. Print the total time taken for training."
      ]
    },
    {
      "cell_type": "code",
      "metadata": {
        "id": "38bTLF7tH0zV",
        "outputId": "05ecb703-de63-4672-d532-606153cfe009",
        "colab": {
          "base_uri": "https://localhost:8080/",
          "height": 238
        }
      },
      "source": [
        "import time\n",
        "\n",
        "start_time = time.time() \n",
        "print('\\n')\n",
        "hist = baseline_model.fit(X_train, \n",
        "                 y_train, \n",
        "                 epochs=5,batch_size=40000,\n",
        "                 validation_data=(X_test,y_test),\n",
        "                 verbose = 1)\n",
        "print(\"--- Time took for trainig is %s seconds ---\" % (time.time() - start_time))\n",
        "\n",
        "# Benchmark time: 6 min per 25 epochs for 80 000 records/batch 32\n",
        "# Benchmark time: 2 min per 30 epochs for 80 000 records/64 nodes/batch 64\n",
        "# Benchmark time: 2.5  min per 30 epochs for 150 000 records/128 nodes/batch 128"
      ],
      "execution_count": null,
      "outputs": [
        {
          "output_type": "stream",
          "text": [
            "\n",
            "\n",
            "Epoch 1/5\n",
            "20/20 [==============================] - 11s 570ms/step - loss: 0.9711 - accuracy: 0.5049 - val_loss: 0.8147 - val_accuracy: 0.5073\n",
            "Epoch 2/5\n",
            "20/20 [==============================] - 4s 204ms/step - loss: 0.6980 - accuracy: 0.4988 - val_loss: 0.5816 - val_accuracy: 0.5005\n",
            "Epoch 3/5\n",
            "20/20 [==============================] - 4s 204ms/step - loss: 0.4968 - accuracy: 0.5003 - val_loss: 0.4127 - val_accuracy: 0.4997\n",
            "Epoch 4/5\n",
            "20/20 [==============================] - 4s 204ms/step - loss: 0.3518 - accuracy: 0.5003 - val_loss: 0.2916 - val_accuracy: 0.4997\n",
            "Epoch 5/5\n",
            "20/20 [==============================] - 4s 205ms/step - loss: 0.2482 - accuracy: 0.5003 - val_loss: 0.2054 - val_accuracy: 0.4997\n",
            "--- Time took for trainig is 38.19131898880005 seconds ---\n"
          ],
          "name": "stdout"
        }
      ]
    },
    {
      "cell_type": "code",
      "metadata": {
        "id": "qa6RWaUeLLsB",
        "outputId": "4ce1b459-4a81-4f21-ff82-bd797609b8f7",
        "colab": {
          "base_uri": "https://localhost:8080/",
          "height": 609
        }
      },
      "source": [
        "pd.DataFrame(hist.history).plot(figsize=(10,10))\n",
        "plt.grid(True)\n",
        "plt.show"
      ],
      "execution_count": null,
      "outputs": [
        {
          "output_type": "execute_result",
          "data": {
            "text/plain": [
              "<function matplotlib.pyplot.show>"
            ]
          },
          "metadata": {
            "tags": []
          },
          "execution_count": 25
        },
        {
          "output_type": "display_data",
          "data": {
            "image/png": "[encoded data removed]",
            "text/plain": [
              "<Figure size 720x720 with 1 Axes>"
            ]
          },
          "metadata": {
            "tags": [],
            "needs_background": "light"
          }
        }
      ]
    },
    {
      "cell_type": "code",
      "metadata": {
        "id": "tdtCSoVuZe0o",
        "outputId": "4d0c0762-9c5e-4338-ba84-b7117d0da289",
        "colab": {
          "base_uri": "https://localhost:8080/",
          "height": 295
        }
      },
      "source": [
        "plt.plot(hist.history['loss'], label='train')\n",
        "plt.plot(hist.history['val_loss'], label='validation')\n",
        "plt.xlabel('Epochs')\n",
        "plt.ylabel('Loss')\n",
        "plt.title('Plot of Loss')\n",
        "plt.legend()\n",
        "plt.show()"
      ],
      "execution_count": null,
      "outputs": [
        {
          "output_type": "display_data",
          "data": {
            "image/png": "[encoded data removed]",
            "text/plain": [
              "<Figure size 432x288 with 1 Axes>"
            ]
          },
          "metadata": {
            "tags": [],
            "needs_background": "light"
          }
        }
      ]
    },
    {
      "cell_type": "code",
      "metadata": {
        "id": "eJIqTcB9ZRbN",
        "outputId": "b0a4f1ca-a76a-4db0-e331-3d7c45763d27",
        "colab": {
          "base_uri": "https://localhost:8080/",
          "height": 295
        }
      },
      "source": [
        "import matplotlib.pyplot as plt\n",
        "\n",
        "plt.plot(hist.history['accuracy'], label='train')\n",
        "plt.plot(hist.history['val_accuracy'], label='validation')\n",
        "plt.xlabel('Epochs')\n",
        "plt.ylabel('Loss')\n",
        "plt.title('Plot of Accuracy')\n",
        "plt.legend()\n",
        "plt.show()"
      ],
      "execution_count": null,
      "outputs": [
        {
          "output_type": "display_data",
          "data": {
            "image/png": "[encoded data removed]",
            "text/plain": [
              "<Figure size 432x288 with 1 Axes>"
            ]
          },
          "metadata": {
            "tags": [],
            "needs_background": "light"
          }
        }
      ]
    },
    {
      "cell_type": "markdown",
      "metadata": {
        "id": "CcF9QL3eBAeR"
      },
      "source": [
        "#7. Model Evaluation \n",
        "\n",
        "a. Print the final test/validation loss and accuracy.\n",
        "\n",
        "b. Print confusion matrix and classification report for the validation dataset. Write a summary for the best and worst performing class and the overall trend."
      ]
    },
    {
      "cell_type": "code",
      "metadata": {
        "id": "zNkbB6rIaY5j",
        "outputId": "5e7277f3-c188-4dbe-c78b-6a840fbaf146",
        "colab": {
          "base_uri": "https://localhost:8080/",
          "height": 51
        }
      },
      "source": [
        "print('Final training loss \\t', hist.history['loss'][-1])\n",
        "print('Final training accuracy ', hist.history['accuracy'][-1])"
      ],
      "execution_count": null,
      "outputs": [
        {
          "output_type": "stream",
          "text": [
            "Final training loss \t 0.2481890171766281\n",
            "Final training accuracy  0.5003137588500977\n"
          ],
          "name": "stdout"
        }
      ]
    },
    {
      "cell_type": "code",
      "metadata": {
        "id": "DO46XaPYag5c",
        "outputId": "5f3eae04-3dbc-4d4b-d29e-6feab4694823",
        "colab": {
          "base_uri": "https://localhost:8080/",
          "height": 34
        }
      },
      "source": [
        "test_Loss, test_Accuracy = baseline_model.evaluate( X_test, y_test)"
      ],
      "execution_count": null,
      "outputs": [
        {
          "output_type": "stream",
          "text": [
            "25000/25000 [==============================] - 224s 9ms/step - loss: 0.2054 - accuracy: 0.4997\n"
          ],
          "name": "stdout"
        }
      ]
    },
    {
      "cell_type": "code",
      "metadata": {
        "id": "4bwQe3Ghauv8",
        "outputId": "475e72dd-152f-4318-dc84-55030097d98a",
        "colab": {
          "base_uri": "https://localhost:8080/",
          "height": 51
        }
      },
      "source": [
        "print('Testing loss \\t', test_Loss)\n",
        "print('Testing accuracy ', test_Accuracy)"
      ],
      "execution_count": null,
      "outputs": [
        {
          "output_type": "stream",
          "text": [
            "Testing loss \t 0.2129051685333252\n",
            "Testing accuracy  0.4996887445449829\n"
          ],
          "name": "stdout"
        }
      ]
    },
    {
      "cell_type": "markdown",
      "metadata": {
        "id": "3117JyVT2DjX"
      },
      "source": [
        "<b>\n",
        "<li> The baseline model has a training loss of 25.6% and a training accuracy of 50.03% </li>\n",
        "<li> The baseline model has a testing loss of 21.2% and a testing accuracy of 49.9% </li>\n",
        "</b>"
      ]
    },
    {
      "cell_type": "markdown",
      "metadata": {
        "id": "A31WgfmGayCE"
      },
      "source": [
        "**Print confusion matrix and classification report for the validation dataset. Write a summary for the best and worst performing class and the overall trend.**\n",
        "\n",
        "---\n",
        "\n"
      ]
    },
    {
      "cell_type": "code",
      "metadata": {
        "id": "5FjzsiYxaxuH"
      },
      "source": [
        "def plot_confusion_matrix(cm, \n",
        "                          classes, \n",
        "                          normalize=False,\n",
        "                          title='CM', \n",
        "                          cmap=plt.cm.Greens):\n",
        "# This function prints and plots the confusion matrix. Normalization can be applied by setting `normalize=True`\n",
        "\n",
        "    if normalize:\n",
        "        cm = cm.astype('float') / cm.sum(axis=1)[:, np.newaxis]\n",
        "        # print(\"Normalized confusion matrix\") # print(cm)\n",
        "\n",
        "    plt.imshow(cm, interpolation='nearest', cmap=cmap) \n",
        "    plt.title(title)\n",
        "    plt.colorbar()\n",
        "\n",
        "    tick_marks = np.arange(len(classes)) \n",
        "    plt.xticks(tick_marks, classes, rotation=45) \n",
        "    plt.yticks(tick_marks, classes)\n",
        "\n",
        "    fmt = '.2f' if normalize else 'd'\n",
        "    thresh = cm.max() / 2.\n",
        "    for i, j in itertools.product(range(cm.shape[0]), range(cm.shape[1])):\n",
        "        plt.text(j, i, format(cm[i, j], fmt), \n",
        "                 horizontalalignment=\"center\",\n",
        "                 color=\"white\" if cm[i, j] > thresh else \"black\")\n",
        "        plt.tight_layout() \n",
        "        plt.ylabel('True label') \n",
        "        plt.xlabel('Predicted label')"
      ],
      "execution_count": null,
      "outputs": []
    },
    {
      "cell_type": "code",
      "metadata": {
        "id": "u9DF4XGDb9Yp"
      },
      "source": [
        "y_pred = baseline_model.predict(X_train)\n",
        "y_pred_rounded = np.argmax(y_pred, axis=1)"
      ],
      "execution_count": null,
      "outputs": []
    },
    {
      "cell_type": "code",
      "metadata": {
        "id": "7GSYaNnVcjM_"
      },
      "source": [
        "cmResults = confusion_matrix(y_train, y_pred_rounded) \n",
        "accuracy = accuracy_score(y_train, y_pred_rounded)"
      ],
      "execution_count": null,
      "outputs": []
    },
    {
      "cell_type": "code",
      "metadata": {
        "id": "6zILQjf2coQ_",
        "outputId": "611ae4bd-6d25-4095-95c2-30178aa96c7b",
        "colab": {
          "base_uri": "https://localhost:8080/",
          "height": 513
        }
      },
      "source": [
        "class_names = ['Negative', 'Positive']\n",
        "plt.figure(figsize=(7,7));\n",
        "plot_confusion_matrix(cmResults, classes=class_names, title=\"Model\"+ \"\\n\" +\"Accuracy: \" + str((accuracy*100).round(1)) + \"%\" +\"\\n\"+\"Train Data\");"
      ],
      "execution_count": null,
      "outputs": [
        {
          "output_type": "display_data",
          "data": {
            "image/png": "[encoded data removed]",
            "text/plain": [
              "<Figure size 504x504 with 2 Axes>"
            ]
          },
          "metadata": {
            "tags": [],
            "needs_background": "light"
          }
        }
      ]
    },
    {
      "cell_type": "code",
      "metadata": {
        "id": "eifa6eSwdxpR"
      },
      "source": [
        "y_pred_test = baseline_model.predict(X_test)\n",
        "y_pred_test_rounded = np.argmax(y_pred, axis=1)\n",
        "cmResults = confusion_matrix(y_test, y_pred_test_rounded)\n",
        "accuracy = accuracy_score(y_test, y_pred_test_rounded)"
      ],
      "execution_count": null,
      "outputs": []
    },
    {
      "cell_type": "code",
      "metadata": {
        "id": "Dlg6oJ0QeRDp",
        "outputId": "de28680b-b213-4990-a8f0-3c194aba21d9",
        "colab": {
          "base_uri": "https://localhost:8080/",
          "height": 513
        }
      },
      "source": [
        "plt.figure(figsize=(7,7));\n",
        "plot_confusion_matrix(cmResults, classes=class_names, \n",
        "                      title=\"Test Model\"+ \"\\n\" +\"Accuracy: \" + str((accuracy*100).round(1)) + \"%\" +\"\\n\"+\"Test Data\",\n",
        "                      cmap=plt.cm.Blues);\n"
      ],
      "execution_count": null,
      "outputs": [
        {
          "output_type": "display_data",
          "data": {
            "image/png": "[encoded data removed]",
            "text/plain": [
              "<Figure size 504x504 with 2 Axes>"
            ]
          },
          "metadata": {
            "tags": [],
            "needs_background": "light"
          }
        }
      ]
    },
    {
      "cell_type": "code",
      "metadata": {
        "id": "EQ4R_tlbeY0G",
        "outputId": "122512c7-6d7f-4a21-8cd9-4e6553153f9c",
        "colab": {
          "base_uri": "https://localhost:8080/",
          "height": 224
        }
      },
      "source": [
        "classes =  ['Negative', 'Positive']\n",
        "print(classification_report(y_test, y_pred_test_rounded, target_names = classes))"
      ],
      "execution_count": null,
      "outputs": [
        {
          "output_type": "stream",
          "text": [
            "/usr/local/lib/python3.6/dist-packages/sklearn/metrics/_classification.py:1272: UndefinedMetricWarning: Precision and F-score are ill-defined and being set to 0.0 in labels with no predicted samples. Use `zero_division` parameter to control this behavior.\n",
            "  _warn_prf(average, modifier, msg_start, len(result))\n"
          ],
          "name": "stderr"
        },
        {
          "output_type": "stream",
          "text": [
            "              precision    recall  f1-score   support\n",
            "\n",
            "    Negative       0.50      1.00      0.67    399751\n",
            "    Positive       0.00      0.00      0.00    400249\n",
            "\n",
            "    accuracy                           0.50    800000\n",
            "   macro avg       0.25      0.50      0.33    800000\n",
            "weighted avg       0.25      0.50      0.33    800000\n",
            "\n"
          ],
          "name": "stdout"
        }
      ]
    },
    {
      "cell_type": "markdown",
      "metadata": {
        "id": "7pfRg_BMBK_y"
      },
      "source": [
        "# Hyperparameter Tuning- Build two more models by changing the following hyperparameters one at a time.\n",
        "\n",
        "Write the code for Model Building, Model Compilation, Model Training and Model Evaluation as given in the instructions above for each additional model.\n",
        "1. Dropout: Change the position and value of dropout layer\n",
        "2. Regularization: Train a model without regularization\n",
        "Write a comparison between each model and give reasons for the difference in results. Also, make a comparison with the state-of-the-art accuracy for this dataset."
      ]
    },
    {
      "cell_type": "code",
      "metadata": {
        "id": "G7OKLkuYm1S4",
        "outputId": "55afa721-35fb-438a-b71e-0c19b87e656d",
        "colab": {
          "base_uri": "https://localhost:8080/",
          "height": 323
        }
      },
      "source": [
        "hub_layer = hub.KerasLayer(\"https://tfhub.dev/google/nnlm-en-dim128/1\",input_shape=[], dtype=tf.string)\n",
        "\n",
        "\n",
        "model_1 = keras.Sequential()\n",
        "model_1.add(hub_layer)\n",
        "\n",
        "model_1.add(keras.layers.Dense(64, activation='relu',kernel_regularizer=regularizers.l2(0.01),activity_regularizer=regularizers.l2(0.01)))\n",
        "model_1.add(keras.layers.Dropout(0.25))\n",
        "model_1.add(keras.layers.Dense(16, activation='relu',kernel_regularizer=regularizers.l2(0.01),activity_regularizer=regularizers.l2(0.01)))\n",
        "model_1.add(keras.layers.Dense(1, activation='sigmoid',kernel_regularizer=regularizers.l2(0.01),activity_regularizer=regularizers.l2(0.01)))\n",
        "\n",
        "model_1.summary()"
      ],
      "execution_count": null,
      "outputs": [
        {
          "output_type": "stream",
          "text": [
            "Model: \"sequential_1\"\n",
            "_________________________________________________________________\n",
            "Layer (type)                 Output Shape              Param #   \n",
            "=================================================================\n",
            "keras_layer_1 (KerasLayer)   (None, 128)               249285376 \n",
            "_________________________________________________________________\n",
            "dense_3 (Dense)              (None, 64)                8256      \n",
            "_________________________________________________________________\n",
            "dropout_1 (Dropout)          (None, 64)                0         \n",
            "_________________________________________________________________\n",
            "dense_4 (Dense)              (None, 16)                1040      \n",
            "_________________________________________________________________\n",
            "dense_5 (Dense)              (None, 1)                 17        \n",
            "=================================================================\n",
            "Total params: 249,294,689\n",
            "Trainable params: 9,313\n",
            "Non-trainable params: 249,285,376\n",
            "_________________________________________________________________\n"
          ],
          "name": "stdout"
        }
      ]
    },
    {
      "cell_type": "markdown",
      "metadata": {
        "id": "oTz8npHu2PwK"
      },
      "source": [
        "<b>\n",
        "<li>Model-1 is built with a dropout of 0.25 in the 1st hidden layer. </li>\n",
        "<li> This model has 64 neurons in the first hidden layer and 16 in the second layer</li>\n",
        "\n",
        "<li> Activation functions ReLu and Sigmoid are choosen at the hidden layers and the output layer respectively.\n",
        "</b>"
      ]
    },
    {
      "cell_type": "code",
      "metadata": {
        "id": "CsfirOmPnPpJ"
      },
      "source": [
        "model_1.compile(loss='categorical_crossentropy', optimizer='adam', metrics=['accuracy'])"
      ],
      "execution_count": null,
      "outputs": []
    },
    {
      "cell_type": "code",
      "metadata": {
        "id": "SIU_1ut8nWF0",
        "outputId": "5a5939de-99c2-4447-bafd-48a0496aee26",
        "colab": {
          "base_uri": "https://localhost:8080/",
          "height": 135
        }
      },
      "source": [
        "keras.utils.plot_model(model_1, \n",
        "                      to_file='model_1.png',\n",
        "                      show_shapes=True, show_layer_names=True, rankdir='LR', expand_nested=False, dpi=128)"
      ],
      "execution_count": null,
      "outputs": [
        {
          "output_type": "execute_result",
          "data": {
            "image/png": "[encoded data removed]",
            "text/plain": [
              "<IPython.core.display.Image object>"
            ]
          },
          "metadata": {
            "tags": []
          },
          "execution_count": 42
        }
      ]
    },
    {
      "cell_type": "code",
      "metadata": {
        "id": "bhoj6b5wneVm",
        "outputId": "e940a3a4-3216-4da4-8cef-af00dfb1e5b6",
        "colab": {
          "base_uri": "https://localhost:8080/",
          "height": 238
        }
      },
      "source": [
        "start_time = time.time() \n",
        "print('\\n')\n",
        "hist_1 = model_1.fit(X_train, \n",
        "                 y_train, \n",
        "                 epochs=5,batch_size=40000,\n",
        "                 validation_data=(X_test,y_test),\n",
        "                 verbose = 1)\n",
        "print(\"--- Time taken for trainig model_1 is %s seconds ---\" % (time.time() - start_time))\n"
      ],
      "execution_count": null,
      "outputs": [
        {
          "output_type": "stream",
          "text": [
            "\n",
            "\n",
            "Epoch 1/5\n",
            "20/20 [==============================] - 11s 550ms/step - loss: 0.9908 - accuracy: 0.4958 - val_loss: 0.8316 - val_accuracy: 0.4994\n",
            "Epoch 2/5\n",
            "20/20 [==============================] - 4s 202ms/step - loss: 0.7132 - accuracy: 0.4997 - val_loss: 0.5949 - val_accuracy: 0.4997\n",
            "Epoch 3/5\n",
            "20/20 [==============================] - 4s 199ms/step - loss: 0.5086 - accuracy: 0.5003 - val_loss: 0.4230 - val_accuracy: 0.4997\n",
            "Epoch 4/5\n",
            "20/20 [==============================] - 4s 200ms/step - loss: 0.3610 - accuracy: 0.5003 - val_loss: 0.2997 - val_accuracy: 0.4997\n",
            "Epoch 5/5\n",
            "20/20 [==============================] - 4s 203ms/step - loss: 0.2554 - accuracy: 0.5003 - val_loss: 0.2118 - val_accuracy: 0.4997\n",
            "--- Time taken for trainig model_1 is 35.39108657836914 seconds ---\n"
          ],
          "name": "stdout"
        }
      ]
    },
    {
      "cell_type": "code",
      "metadata": {
        "id": "Pk4m4X5-nvln",
        "outputId": "4caf9a22-8874-4dd4-e262-e7a234abcf10",
        "colab": {
          "base_uri": "https://localhost:8080/",
          "height": 609
        }
      },
      "source": [
        "pd.DataFrame(hist_1.history).plot(figsize=(10,10))\n",
        "plt.grid(True)\n",
        "plt.show"
      ],
      "execution_count": null,
      "outputs": [
        {
          "output_type": "execute_result",
          "data": {
            "text/plain": [
              "<function matplotlib.pyplot.show>"
            ]
          },
          "metadata": {
            "tags": []
          },
          "execution_count": 44
        },
        {
          "output_type": "display_data",
          "data": {
            "image/png": "[encoded data removed]",
            "text/plain": [
              "<Figure size 720x720 with 1 Axes>"
            ]
          },
          "metadata": {
            "tags": [],
            "needs_background": "light"
          }
        }
      ]
    },
    {
      "cell_type": "code",
      "metadata": {
        "id": "FW1mBDIan4zR",
        "outputId": "0a969cfa-732d-4354-8e0c-0dde0301fff2",
        "colab": {
          "base_uri": "https://localhost:8080/",
          "height": 295
        }
      },
      "source": [
        "plt.plot(hist_1.history['loss'], label='train')\n",
        "plt.plot(hist_1.history['val_loss'], label='validation')\n",
        "plt.xlabel('Epochs')\n",
        "plt.ylabel('Loss')\n",
        "plt.title('Plot of Loss')\n",
        "plt.legend()\n",
        "plt.show()"
      ],
      "execution_count": null,
      "outputs": [
        {
          "output_type": "display_data",
          "data": {
            "image/png": "[encoded data removed]",
            "text/plain": [
              "<Figure size 432x288 with 1 Axes>"
            ]
          },
          "metadata": {
            "tags": [],
            "needs_background": "light"
          }
        }
      ]
    },
    {
      "cell_type": "code",
      "metadata": {
        "id": "0QXsu8sFoinU",
        "outputId": "43a41a46-e1c3-4f15-91af-c3ba224c6d41",
        "colab": {
          "base_uri": "https://localhost:8080/",
          "height": 295
        }
      },
      "source": [
        "\n",
        "plt.plot(hist_1.history['accuracy'], label='train')\n",
        "plt.plot(hist_1.history['val_accuracy'], label='validation')\n",
        "plt.xlabel('Epochs')\n",
        "plt.ylabel('Loss')\n",
        "plt.title('Plot of Accuracy')\n",
        "plt.legend()\n",
        "plt.show()"
      ],
      "execution_count": null,
      "outputs": [
        {
          "output_type": "display_data",
          "data": {
            "image/png": "[encoded data removed]",
            "text/plain": [
              "<Figure size 432x288 with 1 Axes>"
            ]
          },
          "metadata": {
            "tags": [],
            "needs_background": "light"
          }
        }
      ]
    },
    {
      "cell_type": "code",
      "metadata": {
        "id": "5jhkDltFoqBa",
        "outputId": "af417a9d-5835-40f1-c115-95521ebe6f47",
        "colab": {
          "base_uri": "https://localhost:8080/",
          "height": 51
        }
      },
      "source": [
        "print('Final training loss \\t', hist_1.history['loss'][-1])\n",
        "print('Final training accuracy ', hist_1.history['accuracy'][-1])"
      ],
      "execution_count": null,
      "outputs": [
        {
          "output_type": "stream",
          "text": [
            "Final training loss \t 0.25544679164886475\n",
            "Final training accuracy  0.5003112554550171\n"
          ],
          "name": "stdout"
        }
      ]
    },
    {
      "cell_type": "code",
      "metadata": {
        "id": "WrWRX7e4owmm",
        "outputId": "3e6d230a-9ee2-4b2b-a577-19572c5d6a05",
        "colab": {
          "base_uri": "https://localhost:8080/",
          "height": 34
        }
      },
      "source": [
        "test_Loss_1, test_Accuracy_1 = model_1.evaluate( X_test, y_test)"
      ],
      "execution_count": null,
      "outputs": [
        {
          "output_type": "stream",
          "text": [
            "25000/25000 [==============================] - 217s 9ms/step - loss: 0.2118 - accuracy: 0.4997\n"
          ],
          "name": "stdout"
        }
      ]
    },
    {
      "cell_type": "code",
      "metadata": {
        "id": "yznwOuVLo6OM",
        "outputId": "d5ab3869-05f4-412f-f4f9-a8f62b65def4",
        "colab": {
          "base_uri": "https://localhost:8080/",
          "height": 51
        }
      },
      "source": [
        "print('Testing loss \\t', test_Loss_1)\n",
        "print('Testing accuracy ', test_Accuracy_1)"
      ],
      "execution_count": null,
      "outputs": [
        {
          "output_type": "stream",
          "text": [
            "Testing loss \t 0.21177256107330322\n",
            "Testing accuracy  0.4996887445449829\n"
          ],
          "name": "stdout"
        }
      ]
    },
    {
      "cell_type": "markdown",
      "metadata": {
        "id": "p9NYRhvk2-Y5"
      },
      "source": [
        "<b> \n",
        "<li> Model-1 has a training accuracy of 50.03% and a trainng loss of 25.5% </li>\n",
        "<li> Model-1 has a testing accuracy of 49.9% and a testing loss of 21.1% </li>\n",
        "</b>"
      ]
    },
    {
      "cell_type": "markdown",
      "metadata": {
        "id": "nFK9bwOCp8I9"
      },
      "source": [
        "***\n",
        "<b>Model with no regularizers </b>\n",
        "***"
      ]
    },
    {
      "cell_type": "code",
      "metadata": {
        "id": "PhwYoFKrp5XZ",
        "outputId": "07a028ec-af8e-431b-ce50-c6514a4ea197",
        "colab": {
          "base_uri": "https://localhost:8080/",
          "height": 323
        }
      },
      "source": [
        "hub_layer = hub.KerasLayer(\"https://tfhub.dev/google/nnlm-en-dim128/1\",input_shape=[], dtype=tf.string)\n",
        "\n",
        "\n",
        "model_2 = keras.Sequential()\n",
        "model_2.add(hub_layer)\n",
        "\n",
        "model_2.add(keras.layers.Dense(64, activation='relu'))\n",
        "model_2.add(keras.layers.Dense(16, activation='relu'))\n",
        "model_2.add(keras.layers.Dropout(0.5))\n",
        "model_2.add(keras.layers.Dense(1, activation='sigmoid'))\n",
        "\n",
        "model_2.summary()"
      ],
      "execution_count": null,
      "outputs": [
        {
          "output_type": "stream",
          "text": [
            "Model: \"sequential_2\"\n",
            "_________________________________________________________________\n",
            "Layer (type)                 Output Shape              Param #   \n",
            "=================================================================\n",
            "keras_layer_2 (KerasLayer)   (None, 128)               249285376 \n",
            "_________________________________________________________________\n",
            "dense_6 (Dense)              (None, 64)                8256      \n",
            "_________________________________________________________________\n",
            "dense_7 (Dense)              (None, 16)                1040      \n",
            "_________________________________________________________________\n",
            "dropout_2 (Dropout)          (None, 16)                0         \n",
            "_________________________________________________________________\n",
            "dense_8 (Dense)              (None, 1)                 17        \n",
            "=================================================================\n",
            "Total params: 249,294,689\n",
            "Trainable params: 9,313\n",
            "Non-trainable params: 249,285,376\n",
            "_________________________________________________________________\n"
          ],
          "name": "stdout"
        }
      ]
    },
    {
      "cell_type": "markdown",
      "metadata": {
        "id": "C-j-8hYe3O8_"
      },
      "source": [
        "<b>\n",
        "<li> A model-2 is built with no regularizers </li>\n",
        "<li> This model has a drop out of 0.5 at the second hidden layer </li>\n",
        "<li> The model has 64 and 16 neruons in the fist and the second hidden layers respectively. </li>\n",
        "<li> Activation fuctions chosen are ReLu and Sigmoid at the hidden layers and the output layer respectively </li>\n",
        "</b>"
      ]
    },
    {
      "cell_type": "code",
      "metadata": {
        "id": "WX_SK2zKqdtk"
      },
      "source": [
        "model_2.compile(loss='categorical_crossentropy', optimizer='adam', metrics=['accuracy'])"
      ],
      "execution_count": null,
      "outputs": []
    },
    {
      "cell_type": "code",
      "metadata": {
        "id": "c3Sm7I2Vqiry",
        "outputId": "5e9d6a75-243f-470e-defd-6870f8079dd9",
        "colab": {
          "base_uri": "https://localhost:8080/",
          "height": 135
        }
      },
      "source": [
        "keras.utils.plot_model(model_2, \n",
        "                      to_file='model_2.png',\n",
        "                      show_shapes=True, show_layer_names=True, rankdir='LR', expand_nested=False, dpi=128)"
      ],
      "execution_count": null,
      "outputs": [
        {
          "output_type": "execute_result",
          "data": {
            "image/png": "[encoded data removed]",
            "text/plain": [
              "<IPython.core.display.Image object>"
            ]
          },
          "metadata": {
            "tags": []
          },
          "execution_count": 52
        }
      ]
    },
    {
      "cell_type": "code",
      "metadata": {
        "id": "IsIQbzebqwnU",
        "outputId": "802678aa-94bc-4fb7-a59f-9c43adace7c1",
        "colab": {
          "base_uri": "https://localhost:8080/",
          "height": 238
        }
      },
      "source": [
        "start_time = time.time() \n",
        "print('\\n')\n",
        "hist_2 = model_2.fit(X_train, \n",
        "                 y_train, \n",
        "                 epochs=5,batch_size=40000,\n",
        "                 validation_data=(X_test,y_test),\n",
        "                 verbose = 1)\n",
        "print(\"--- Time taken for trainig model_1 is %s seconds ---\" % (time.time() - start_time))\n"
      ],
      "execution_count": null,
      "outputs": [
        {
          "output_type": "stream",
          "text": [
            "\n",
            "\n",
            "Epoch 1/5\n",
            "20/20 [==============================] - 11s 550ms/step - loss: 5.9568e-08 - accuracy: 0.4994 - val_loss: 5.9642e-08 - val_accuracy: 0.4985\n",
            "Epoch 2/5\n",
            "20/20 [==============================] - 4s 206ms/step - loss: 5.9568e-08 - accuracy: 0.4994 - val_loss: 5.9642e-08 - val_accuracy: 0.4985\n",
            "Epoch 3/5\n",
            "20/20 [==============================] - 4s 209ms/step - loss: 5.9568e-08 - accuracy: 0.4996 - val_loss: 5.9642e-08 - val_accuracy: 0.4985\n",
            "Epoch 4/5\n",
            "20/20 [==============================] - 4s 202ms/step - loss: 5.9568e-08 - accuracy: 0.4993 - val_loss: 5.9642e-08 - val_accuracy: 0.4985\n",
            "Epoch 5/5\n",
            "20/20 [==============================] - 4s 200ms/step - loss: 5.9568e-08 - accuracy: 0.4991 - val_loss: 5.9642e-08 - val_accuracy: 0.4985\n",
            "--- Time taken for trainig model_1 is 35.53082799911499 seconds ---\n"
          ],
          "name": "stdout"
        }
      ]
    },
    {
      "cell_type": "code",
      "metadata": {
        "id": "o207PMzZrJnf",
        "outputId": "712edf4a-a450-470e-fa02-0b5683f8d57c",
        "colab": {
          "base_uri": "https://localhost:8080/",
          "height": 609
        }
      },
      "source": [
        "pd.DataFrame(hist_2.history).plot(figsize=(10,10))\n",
        "plt.grid(True)\n",
        "plt.show"
      ],
      "execution_count": null,
      "outputs": [
        {
          "output_type": "execute_result",
          "data": {
            "text/plain": [
              "<function matplotlib.pyplot.show>"
            ]
          },
          "metadata": {
            "tags": []
          },
          "execution_count": 54
        },
        {
          "output_type": "display_data",
          "data": {
            "image/png": "[encoded data removed]",
            "text/plain": [
              "<Figure size 720x720 with 1 Axes>"
            ]
          },
          "metadata": {
            "tags": [],
            "needs_background": "light"
          }
        }
      ]
    },
    {
      "cell_type": "code",
      "metadata": {
        "id": "64ggwdkRrPoP",
        "outputId": "87016b49-ed4a-47ad-8540-4ce952d4cd99",
        "colab": {
          "base_uri": "https://localhost:8080/",
          "height": 295
        }
      },
      "source": [
        "plt.plot(hist_2.history['loss'], label='train')\n",
        "plt.plot(hist_2.history['val_loss'], label='validation')\n",
        "plt.xlabel('Epochs')\n",
        "plt.ylabel('Loss')\n",
        "plt.title('Plot of Loss')\n",
        "plt.legend()\n",
        "plt.show()"
      ],
      "execution_count": null,
      "outputs": [
        {
          "output_type": "display_data",
          "data": {
            "image/png": "[encoded data removed]",
            "text/plain": [
              "<Figure size 432x288 with 1 Axes>"
            ]
          },
          "metadata": {
            "tags": [],
            "needs_background": "light"
          }
        }
      ]
    },
    {
      "cell_type": "code",
      "metadata": {
        "id": "9GbakuXXrTi5",
        "outputId": "2e081232-7e81-430a-bc05-124fdc1bc545",
        "colab": {
          "base_uri": "https://localhost:8080/",
          "height": 295
        }
      },
      "source": [
        "plt.plot(hist_2.history['accuracy'], label='train')\n",
        "plt.plot(hist_2.history['val_accuracy'], label='validation')\n",
        "plt.xlabel('Epochs')\n",
        "plt.ylabel('Loss')\n",
        "plt.title('Plot of Accuracy')\n",
        "plt.legend()\n",
        "plt.show()"
      ],
      "execution_count": null,
      "outputs": [
        {
          "output_type": "display_data",
          "data": {
            "image/png": "[encoded data removed]",
            "text/plain": [
              "<Figure size 432x288 with 1 Axes>"
            ]
          },
          "metadata": {
            "tags": [],
            "needs_background": "light"
          }
        }
      ]
    },
    {
      "cell_type": "code",
      "metadata": {
        "id": "T62J17N_rv1g",
        "outputId": "59d6429c-c800-47f6-de4d-6497eb07ac6d",
        "colab": {
          "base_uri": "https://localhost:8080/",
          "height": 51
        }
      },
      "source": [
        "print('Final training loss \\t', hist_2.history['loss'][-1])\n",
        "print('Final training accuracy ', hist_2.history['accuracy'][-1])"
      ],
      "execution_count": null,
      "outputs": [
        {
          "output_type": "stream",
          "text": [
            "Final training loss \t 5.956754378644291e-08\n",
            "Final training accuracy  0.4990512430667877\n"
          ],
          "name": "stdout"
        }
      ]
    },
    {
      "cell_type": "code",
      "metadata": {
        "id": "dWMpjoD5r6CG",
        "outputId": "3fb5738f-fcc9-440a-e3e3-14a016c10eaf",
        "colab": {
          "base_uri": "https://localhost:8080/",
          "height": 34
        }
      },
      "source": [
        "test_Loss_2, test_Accuracy_2 = model_2.evaluate( X_test, y_test)"
      ],
      "execution_count": null,
      "outputs": [
        {
          "output_type": "stream",
          "text": [
            "25000/25000 [==============================] - 210s 8ms/step - loss: 5.9642e-08 - accuracy: 0.4985\n"
          ],
          "name": "stdout"
        }
      ]
    },
    {
      "cell_type": "code",
      "metadata": {
        "id": "60s_qbi_s6jG",
        "outputId": "0e62e809-1fc1-42e2-df9f-5730926d9653",
        "colab": {
          "base_uri": "https://localhost:8080/",
          "height": 51
        }
      },
      "source": [
        "print('Testing loss \\t', test_Loss_2)\n",
        "print('Testing accuracy ', test_Accuracy_2)"
      ],
      "execution_count": null,
      "outputs": [
        {
          "output_type": "stream",
          "text": [
            "Testing loss \t 5.964175642247938e-08\n",
            "Testing accuracy  0.4984875023365021\n"
          ],
          "name": "stdout"
        }
      ]
    },
    {
      "cell_type": "markdown",
      "metadata": {
        "id": "b3I9PpUH3vMJ"
      },
      "source": [
        "<b>\n",
        "<li> Model-2 has a training accuracy of 49.84% and a training loss of 5.96e-08 </li>\n",
        "<li> Model-2 has a testing accuracy of 50.04% and a testing loss of 5.9e-08 </li>\n",
        "</b>"
      ]
    },
    {
      "cell_type": "markdown",
      "metadata": {
        "id": "ST2Rvdv0tVEG"
      },
      "source": [
        "**Also, make a comparison with the state-of-the-art accuracy for this dataset.**"
      ]
    },
    {
      "cell_type": "markdown",
      "metadata": {
        "id": "N7JHStV24HrZ"
      },
      "source": [
        "<b>\n",
        "<li> A state of the art model with 128 neurons each in the first and second hidden layers is choosen. </li>\n",
        "<li> The activation function Sigmoid is chosen at the output layer while keeping the activation fuction ReLu in the hidden layers. </li>\n",
        "</b>"
      ]
    },
    {
      "cell_type": "code",
      "metadata": {
        "id": "ZEmHXDe2tQOp",
        "outputId": "fd18aa76-dc5f-4671-ad61-48255d5ed6fa",
        "colab": {
          "base_uri": "https://localhost:8080/",
          "height": 289
        }
      },
      "source": [
        "hub_layer = hub.KerasLayer(\"https://tfhub.dev/google/nnlm-en-dim128/1\",output_shape=[128], input_shape=[], dtype=tf.string)\n",
        "\n",
        "soa_model = keras.Sequential()\n",
        "soa_model.add(hub_layer)\n",
        "\n",
        "soa_model.add(keras.layers.Dense(128, activation='relu'))\n",
        "soa_model.add(keras.layers.Dense(128, activation='relu'))\n",
        "soa_model.add(keras.layers.Dense(1, activation='sigmoid'))\n",
        "\n",
        "soa_model.summary()"
      ],
      "execution_count": null,
      "outputs": [
        {
          "output_type": "stream",
          "text": [
            "Model: \"sequential_3\"\n",
            "_________________________________________________________________\n",
            "Layer (type)                 Output Shape              Param #   \n",
            "=================================================================\n",
            "keras_layer_3 (KerasLayer)   (None, 128)               249285376 \n",
            "_________________________________________________________________\n",
            "dense_9 (Dense)              (None, 128)               16512     \n",
            "_________________________________________________________________\n",
            "dense_10 (Dense)             (None, 128)               16512     \n",
            "_________________________________________________________________\n",
            "dense_11 (Dense)             (None, 1)                 129       \n",
            "=================================================================\n",
            "Total params: 249,318,529\n",
            "Trainable params: 33,153\n",
            "Non-trainable params: 249,285,376\n",
            "_________________________________________________________________\n"
          ],
          "name": "stdout"
        }
      ]
    },
    {
      "cell_type": "code",
      "metadata": {
        "id": "3XZnirJOt7bv",
        "outputId": "aed4492f-ae03-4bba-b3ed-29e02ac1e1b8",
        "colab": {
          "base_uri": "https://localhost:8080/",
          "height": 748
        }
      },
      "source": [
        "soa_model.compile(loss='categorical_crossentropy', optimizer='adam', metrics=['accuracy'])\n",
        "\n",
        "start_time = time.time() \n",
        "print('\\n')\n",
        "hist_soa = soa_model.fit(X_train, \n",
        "                 y_train, \n",
        "                 epochs=20,batch_size=40000,\n",
        "                 validation_data=(X_test,y_test),\n",
        "                 verbose = 1)\n",
        "print(\"--- Time taken for trainig model_1 is %s seconds ---\" % (time.time() - start_time))\n"
      ],
      "execution_count": null,
      "outputs": [
        {
          "output_type": "stream",
          "text": [
            "\n",
            "\n",
            "Epoch 1/20\n",
            "20/20 [==============================] - 11s 543ms/step - loss: 5.9568e-08 - accuracy: 0.4942 - val_loss: 5.9642e-08 - val_accuracy: 0.4949\n",
            "Epoch 2/20\n",
            "20/20 [==============================] - 4s 205ms/step - loss: 5.9568e-08 - accuracy: 0.4942 - val_loss: 5.9642e-08 - val_accuracy: 0.4949\n",
            "Epoch 3/20\n",
            "20/20 [==============================] - 4s 204ms/step - loss: 5.9568e-08 - accuracy: 0.4942 - val_loss: 5.9642e-08 - val_accuracy: 0.4949\n",
            "Epoch 4/20\n",
            "20/20 [==============================] - 4s 205ms/step - loss: 5.9568e-08 - accuracy: 0.4942 - val_loss: 5.9642e-08 - val_accuracy: 0.4949\n",
            "Epoch 5/20\n",
            "20/20 [==============================] - 4s 206ms/step - loss: 5.9568e-08 - accuracy: 0.4942 - val_loss: 5.9642e-08 - val_accuracy: 0.4949\n",
            "Epoch 6/20\n",
            "20/20 [==============================] - 4s 205ms/step - loss: 5.9568e-08 - accuracy: 0.4942 - val_loss: 5.9642e-08 - val_accuracy: 0.4949\n",
            "Epoch 7/20\n",
            "20/20 [==============================] - 4s 209ms/step - loss: 5.9568e-08 - accuracy: 0.4942 - val_loss: 5.9642e-08 - val_accuracy: 0.4949\n",
            "Epoch 8/20\n",
            "20/20 [==============================] - 4s 209ms/step - loss: 5.9568e-08 - accuracy: 0.4942 - val_loss: 5.9642e-08 - val_accuracy: 0.4949\n",
            "Epoch 9/20\n",
            "20/20 [==============================] - 4s 211ms/step - loss: 5.9568e-08 - accuracy: 0.4942 - val_loss: 5.9642e-08 - val_accuracy: 0.4949\n",
            "Epoch 10/20\n",
            "20/20 [==============================] - 4s 208ms/step - loss: 5.9568e-08 - accuracy: 0.4942 - val_loss: 5.9642e-08 - val_accuracy: 0.4949\n",
            "Epoch 11/20\n",
            "20/20 [==============================] - 4s 206ms/step - loss: 5.9568e-08 - accuracy: 0.4942 - val_loss: 5.9642e-08 - val_accuracy: 0.4949\n",
            "Epoch 12/20\n",
            "20/20 [==============================] - 4s 207ms/step - loss: 5.9568e-08 - accuracy: 0.4942 - val_loss: 5.9642e-08 - val_accuracy: 0.4949\n",
            "Epoch 13/20\n",
            "20/20 [==============================] - 4s 206ms/step - loss: 5.9568e-08 - accuracy: 0.4942 - val_loss: 5.9642e-08 - val_accuracy: 0.4949\n",
            "Epoch 14/20\n",
            "20/20 [==============================] - 4s 207ms/step - loss: 5.9568e-08 - accuracy: 0.4942 - val_loss: 5.9642e-08 - val_accuracy: 0.4949\n",
            "Epoch 15/20\n",
            "20/20 [==============================] - 4s 207ms/step - loss: 5.9568e-08 - accuracy: 0.4942 - val_loss: 5.9642e-08 - val_accuracy: 0.4949\n",
            "Epoch 16/20\n",
            "20/20 [==============================] - 4s 206ms/step - loss: 5.9568e-08 - accuracy: 0.4942 - val_loss: 5.9642e-08 - val_accuracy: 0.4949\n",
            "Epoch 17/20\n",
            "20/20 [==============================] - 4s 208ms/step - loss: 5.9568e-08 - accuracy: 0.4942 - val_loss: 5.9642e-08 - val_accuracy: 0.4949\n",
            "Epoch 18/20\n",
            "20/20 [==============================] - 4s 206ms/step - loss: 5.9568e-08 - accuracy: 0.4942 - val_loss: 5.9642e-08 - val_accuracy: 0.4949\n",
            "Epoch 19/20\n",
            "20/20 [==============================] - 4s 209ms/step - loss: 5.9568e-08 - accuracy: 0.4942 - val_loss: 5.9642e-08 - val_accuracy: 0.4949\n",
            "Epoch 20/20\n",
            "20/20 [==============================] - 4s 206ms/step - loss: 5.9568e-08 - accuracy: 0.4942 - val_loss: 5.9642e-08 - val_accuracy: 0.4949\n",
            "--- Time taken for trainig model_1 is 99.95299243927002 seconds ---\n"
          ],
          "name": "stdout"
        }
      ]
    },
    {
      "cell_type": "code",
      "metadata": {
        "id": "d7Gd0HHdyaQB",
        "outputId": "ea37a46f-769c-4e39-bc5d-f254bcf0c27b",
        "colab": {
          "base_uri": "https://localhost:8080/",
          "height": 609
        }
      },
      "source": [
        "pd.DataFrame(hist_soa.history).plot(figsize=(10,10))\n",
        "plt.grid(True)\n",
        "plt.show"
      ],
      "execution_count": null,
      "outputs": [
        {
          "output_type": "execute_result",
          "data": {
            "text/plain": [
              "<function matplotlib.pyplot.show>"
            ]
          },
          "metadata": {
            "tags": []
          },
          "execution_count": 62
        },
        {
          "output_type": "display_data",
          "data": {
            "image/png": "[encoded data removed]",
            "text/plain": [
              "<Figure size 720x720 with 1 Axes>"
            ]
          },
          "metadata": {
            "tags": [],
            "needs_background": "light"
          }
        }
      ]
    },
    {
      "cell_type": "code",
      "metadata": {
        "id": "7Aq8nWw5t_SF",
        "outputId": "ac7d8cde-7b6d-4a39-e6c7-a5576130f665",
        "colab": {
          "base_uri": "https://localhost:8080/",
          "height": 295
        }
      },
      "source": [
        "plt.plot(hist_soa.history['loss'], label='train')\n",
        "plt.plot(hist_soa.history['val_loss'], label='validation')\n",
        "plt.xlabel('Epochs')\n",
        "plt.ylabel('Loss')\n",
        "plt.title('Plot of Loss')\n",
        "plt.legend()\n",
        "plt.show()"
      ],
      "execution_count": null,
      "outputs": [
        {
          "output_type": "display_data",
          "data": {
            "image/png": "[encoded data removed]",
            "text/plain": [
              "<Figure size 432x288 with 1 Axes>"
            ]
          },
          "metadata": {
            "tags": [],
            "needs_background": "light"
          }
        }
      ]
    },
    {
      "cell_type": "code",
      "metadata": {
        "id": "u5kz29eay6pD",
        "outputId": "849a6c90-55c1-490f-b5ed-460de812b0c1",
        "colab": {
          "base_uri": "https://localhost:8080/",
          "height": 295
        }
      },
      "source": [
        "plt.plot(hist_soa.history['accuracy'], label='train')\n",
        "plt.plot(hist_soa.history['val_accuracy'], label='validation')\n",
        "plt.xlabel('Epochs')\n",
        "plt.ylabel('Loss')\n",
        "plt.title('Plot of Accuracy')\n",
        "plt.legend()\n",
        "plt.show()"
      ],
      "execution_count": null,
      "outputs": [
        {
          "output_type": "display_data",
          "data": {
            "image/png": "[encoded data removed]",
            "text/plain": [
              "<Figure size 432x288 with 1 Axes>"
            ]
          },
          "metadata": {
            "tags": [],
            "needs_background": "light"
          }
        }
      ]
    },
    {
      "cell_type": "code",
      "metadata": {
        "id": "EhyA2ne6zBc7",
        "outputId": "e388ade7-72d2-4ef6-dcdb-e21f2e079c1a",
        "colab": {
          "base_uri": "https://localhost:8080/",
          "height": 51
        }
      },
      "source": [
        "print('Final training loss \\t', hist_soa.history['loss'][-1])\n",
        "print('Final training accuracy ', hist_soa.history['accuracy'][-1])"
      ],
      "execution_count": null,
      "outputs": [
        {
          "output_type": "stream",
          "text": [
            "Final training loss \t 5.956754378644291e-08\n",
            "Final training accuracy  0.4942449927330017\n"
          ],
          "name": "stdout"
        }
      ]
    },
    {
      "cell_type": "code",
      "metadata": {
        "id": "KTXlNTl0zORn",
        "outputId": "212192d1-071e-4b86-9b38-feb1d4e0dae4",
        "colab": {
          "base_uri": "https://localhost:8080/",
          "height": 34
        }
      },
      "source": [
        "test_Loss_soa, test_Accuracy_soa = model_2.evaluate( X_test, y_test)"
      ],
      "execution_count": null,
      "outputs": [
        {
          "output_type": "stream",
          "text": [
            "25000/25000 [==============================] - 211s 8ms/step - loss: 5.9642e-08 - accuracy: 0.4985\n"
          ],
          "name": "stdout"
        }
      ]
    },
    {
      "cell_type": "code",
      "metadata": {
        "id": "WBV9fQJkzIKm",
        "outputId": "7e361501-6cb7-401e-8c56-cfa70015c29e",
        "colab": {
          "base_uri": "https://localhost:8080/",
          "height": 51
        }
      },
      "source": [
        "print('Testing loss \\t', test_Loss_soa)\n",
        "print('Testing accuracy ', test_Accuracy_soa)"
      ],
      "execution_count": null,
      "outputs": [
        {
          "output_type": "stream",
          "text": [
            "Testing loss \t 5.964175642247938e-08\n",
            "Testing accuracy  0.4984875023365021\n"
          ],
          "name": "stdout"
        }
      ]
    },
    {
      "cell_type": "markdown",
      "metadata": {
        "id": "H5svwH1l4kpQ"
      },
      "source": [
        "<b>\n",
        "<li> The state of the art model has a training accuracy of 49.96% with a training loss of 5.95e-08 </li>\n",
        " <li> The state of the art model has a testing accuracy of 49.84% with a testing loss of 5.96e-08 </li>\n",
        " <li> The model is trained for 20 epochs </li>\n",
        "\n",
        "</b>"
      ]
    }
  ]
}